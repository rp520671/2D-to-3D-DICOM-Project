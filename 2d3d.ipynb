{
 "cells": [
  {
   "cell_type": "code",
   "execution_count": 3,
   "id": "355f7b0e",
   "metadata": {},
   "outputs": [
    {
     "name": "stdout",
     "output_type": "stream",
     "text": [
      "Requirement already satisfied: pydicom in d:\\programs\\anaconda\\lib\\site-packages (2.2.1)\n",
      "Requirement already satisfied: flask==0.12.2 in d:\\programs\\anaconda\\lib\\site-packages (0.12.2)\n",
      "Requirement already satisfied: click>=2.0 in d:\\programs\\anaconda\\lib\\site-packages (from flask==0.12.2) (8.0.1)\n",
      "Requirement already satisfied: itsdangerous>=0.21 in d:\\programs\\anaconda\\lib\\site-packages (from flask==0.12.2) (2.0.1)\n",
      "Requirement already satisfied: Jinja2>=2.4 in d:\\programs\\anaconda\\lib\\site-packages (from flask==0.12.2) (3.0.2)\n",
      "Requirement already satisfied: Werkzeug>=0.7 in d:\\programs\\anaconda\\lib\\site-packages (from flask==0.12.2) (2.0.2)\n",
      "Requirement already satisfied: colorama in d:\\programs\\anaconda\\lib\\site-packages (from click>=2.0->flask==0.12.2) (0.4.4)\n",
      "Requirement already satisfied: MarkupSafe>=2.0 in d:\\programs\\anaconda\\lib\\site-packages (from Jinja2>=2.4->flask==0.12.2) (2.0.1)\n",
      "Requirement already satisfied: pyngrok in d:\\programs\\anaconda\\lib\\site-packages (5.1.0)\n",
      "Requirement already satisfied: PyYAML in d:\\programs\\anaconda\\lib\\site-packages (from pyngrok) (5.4.1)\n"
     ]
    }
   ],
   "source": [
    "!pip install pydicom\n",
    "# !pip install flask-ngrok\n",
    "!pip install flask==0.12.2\n",
    "!pip install pyngrok"
   ]
  },
  {
   "cell_type": "code",
   "execution_count": 1,
   "id": "7b9553d5",
   "metadata": {},
   "outputs": [],
   "source": [
    "import plotly\n",
    "import numpy as np\n",
    "import pydicom\n",
    "import os\n",
    "import scipy.ndimage\n",
    "from skimage import measure\n",
    "from plotly.offline import plot\n",
    "from plotly.tools import FigureFactory as FF"
   ]
  },
  {
   "cell_type": "code",
   "execution_count": 2,
   "id": "54a6da01",
   "metadata": {},
   "outputs": [],
   "source": [
    "class SomeClass:\n",
    "  def __init__(self, path):\n",
    "    self.path = path\n",
    "    self.slices = None\n",
    "    self.slice_thickness = None\n",
    "    self.images = None\n",
    "    self.verts = None\n",
    "    self.faces = None\n",
    "    self.norm = None\n",
    "    self.val = None\n",
    "    self.div = None\n",
    "\n",
    "    print('loading images')\n",
    "    self.load_scan()\n",
    "    print('pre-processing images')\n",
    "    self.get_pixels_hu()\n",
    "    print('making a mesh')\n",
    "    self.make_mesh()\n",
    "    print('plotting a 3D model')\n",
    "    self.plotly_3d()\n",
    "  \n",
    "  #\n",
    "  def load_scan(self):\n",
    "    self.slices = [pydicom.read_file(self.path + '/' + s) for s in os.listdir(self.path)]\n",
    "    self.slices.sort(key = lambda x: int(x.InstanceNumber))\n",
    "    try:\n",
    "        self.slice_thickness = np.abs(self.slices[0].ImagePositionPatient[2] - self.slices[1].ImagePositionPatient[2])\n",
    "    except:\n",
    "        self.slice_thickness = np.abs(self.slices[0].SliceLocation - self.slices[1].SliceLocation)\n",
    "        \n",
    "    for s in self.slices:\n",
    "        s.SliceThickness = self.slice_thickness\n",
    "  \n",
    "  #\n",
    "  def get_pixels_hu(self):\n",
    "    image = np.stack([s.pixel_array for s in self.slices])\n",
    "    \n",
    "    image = image.astype(np.int16)\n",
    "\n",
    "    image[image == -2000] = 0\n",
    "    \n",
    "    intercept = self.slices[0].RescaleIntercept\n",
    "    slope = self.slices[0].RescaleSlope\n",
    "    \n",
    "    if slope != 1:\n",
    "        image = slope * image.astype(np.float64)\n",
    "        image = image.astype(np.int16)\n",
    "        \n",
    "    image += np.int16(intercept)\n",
    "    \n",
    "    self.images = np.array(image, dtype=np.int16)\n",
    "\n",
    "    new_spacing = [1, 1, 1]\n",
    "\n",
    "    spacing = map(float, ([self.slices[0].SliceThickness] + list(self.slices[0].PixelSpacing)))\n",
    "    spacing = np.array(list(spacing))\n",
    "\n",
    "    resize_factor = spacing / new_spacing\n",
    "    new_real_shape = self.images.shape * resize_factor\n",
    "    new_shape = np.round(new_real_shape)\n",
    "    real_resize_factor = new_shape / self.images.shape\n",
    "    new_spacing = spacing / real_resize_factor\n",
    "    \n",
    "    self.images = scipy.ndimage.interpolation.zoom(self.images, real_resize_factor)\n",
    "\n",
    "#\n",
    "  def make_mesh(self, threshold=350, step_size=2):\n",
    "    p = self.images.transpose(2,1,0)\n",
    "\n",
    "    self.verts, self.faces, self.norm, self.val = measure.marching_cubes_lewiner(p, threshold, step_size=step_size, allow_degenerate=True)\n",
    "    return self.verts, self.faces\n",
    "  \n",
    "  #\n",
    "  def plotly_3d(self):\n",
    "    x, y, z = zip(*self.verts)\n",
    "\n",
    "    colormap = ['rgb(236, 236, 212)', 'rgb(236, 236, 212)']\n",
    "\n",
    "    fig = FF.create_trisurf(\n",
    "        x=x,\n",
    "        y=y,\n",
    "        z=z,\n",
    "        plot_edges=False,\n",
    "        colormap=colormap,\n",
    "        simplices=self.faces,\n",
    "        backgroundcolor='rgb(64, 64, 64)',\n",
    "        title=\"Interactive Visualization\"\n",
    "    )\n",
    "\n",
    "    self.div = plot(fig, include_plotlyjs=False, output_type='div')"
   ]
  },
  {
   "cell_type": "code",
   "execution_count": null,
   "id": "21cca839",
   "metadata": {},
   "outputs": [
    {
     "name": "stderr",
     "output_type": "stream",
     "text": [
      " * Running on http://127.0.0.1:5000/ (Press CTRL+C to quit)\n",
      "127.0.0.1 - - [29/Oct/2021 12:41:17] \"\u001b[37mGET / HTTP/1.1\u001b[0m\" 200 -\n"
     ]
    },
    {
     "name": "stdout",
     "output_type": "stream",
     "text": [
      "loading images\n",
      "pre-processing images\n",
      "making a mesh\n"
     ]
    },
    {
     "name": "stderr",
     "output_type": "stream",
     "text": [
      "<ipython-input-2-53c2b1fe657c>:70: FutureWarning:\n",
      "\n",
      "marching_cubes_lewiner is deprecated in favor of marching_cubes. marching_cubes_lewiner will be removed in version 0.19\n",
      "\n"
     ]
    },
    {
     "name": "stdout",
     "output_type": "stream",
     "text": [
      "plotting a 3D model\n"
     ]
    },
    {
     "name": "stderr",
     "output_type": "stream",
     "text": [
      "C:\\Users\\rp960\\anaconda3\\lib\\site-packages\\plotly\\tools.py:590: UserWarning:\n",
      "\n",
      "plotly.tools.FigureFactory.create_trisurf is deprecated. Use plotly.figure_factory.create_trisurf\n",
      "\n",
      "127.0.0.1 - - [29/Oct/2021 13:42:46] \"\u001b[37mPOST /file HTTP/1.1\u001b[0m\" 200 -\n"
     ]
    }
   ],
   "source": [
    "from flask import Flask, render_template, request\n",
    "from werkzeug.utils import secure_filename\n",
    "import shutil\n",
    "\n",
    "UPLOAD_FOLDER = 'uploads'\n",
    "app = Flask(__name__, template_folder='templates/')\n",
    "app.config['UPLOAD_FOLDER'] = UPLOAD_FOLDER\n",
    "app.config['MAX_CONTENT_LENGTH'] = 900*1000*1000\n",
    "\n",
    "\n",
    "@app.route(\"/\")\n",
    "def home():\n",
    "    folder = 'uploads'\n",
    "    if os.path.isdir(os.path.join(os.getcwd(), folder)):\n",
    "        shutil.rmtree(os.path.join(os.getcwd(), folder))\n",
    "        os.mkdir(os.path.join(os.getcwd(), folder))\n",
    "    path = os.getcwd()\n",
    "    UPLOAD_FOLDER = os.path.join(path, 'uploads')\n",
    "    return render_template('file1.html')\n",
    "\n",
    "@app.route(\"/file\", methods=['POST'])\n",
    "def file():\n",
    "    files = request.files.getlist('file[]')\n",
    "    for f in files:\n",
    "        fname = secure_filename(f.filename)\n",
    "        f.save(os.path.join(app.config['UPLOAD_FOLDER'], fname))\n",
    "\n",
    "\n",
    "    obj = SomeClass(UPLOAD_FOLDER)\n",
    "    \n",
    "    obj.div = obj.div.replace('height:800px; width:800px;', 'width:50%; margin: 0 auto')\n",
    "    \n",
    "        \n",
    "    \n",
    "    return render_template('test.html', data=obj.div)\n",
    "\n",
    "\n",
    "app.run()\n"
   ]
  },
  {
   "cell_type": "code",
   "execution_count": null,
   "id": "7588e7e8",
   "metadata": {},
   "outputs": [],
   "source": []
  }
 ],
 "metadata": {
  "kernelspec": {
   "display_name": "Python 3",
   "language": "python",
   "name": "python3"
  },
  "language_info": {
   "codemirror_mode": {
    "name": "ipython",
    "version": 3
   },
   "file_extension": ".py",
   "mimetype": "text/x-python",
   "name": "python",
   "nbconvert_exporter": "python",
   "pygments_lexer": "ipython3",
   "version": "3.8.8"
  }
 },
 "nbformat": 4,
 "nbformat_minor": 5
}
